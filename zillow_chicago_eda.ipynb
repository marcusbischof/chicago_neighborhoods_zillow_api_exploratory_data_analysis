{
 "cells": [
  {
   "cell_type": "code",
   "execution_count": null,
   "metadata": {
    "collapsed": true
   },
   "outputs": [],
   "source": [
    "################################################################\n",
    "#\n",
    "# Zillow Data Exploration: Wicker Park, Bucktown, Logan Square\n",
    "# Developer: Marcus Bischof\n",
    "#\n",
    "################################################################\n",
    "\n",
    "import pandas as pd\n",
    "import numpy as np\n",
    "\n",
    "# Vizualization\n",
    "import seaborn as sns\n",
    "from matplotlib import pyplot as plt\n",
    "\n",
    "# API\n",
    "import http.client\n",
    "# Zillow's API returns XML\n",
    "import xml.etree.ElementTree as ET\n",
    "\n",
    "# Utility\n",
    "import collections\n",
    "import os\n",
    "import re\n",
    "\n",
    "zillow_api_key = os.environ['ZILLOW_API_KEY']"
   ]
  },
  {
   "cell_type": "code",
   "execution_count": null,
   "metadata": {},
   "outputs": [],
   "source": [
    "################################################################\n",
    "#\n",
    "# Functions that we may re-use in this exploration.\n",
    "#\n",
    "################################################################\n",
    "\n",
    "# Code used from: https://stackoverflow.com/a/10076823/6169225\n",
    "# StackOverflow user who developed this: K3---rnc\n",
    "def etree_to_dict(t):\n",
    "    \"\"\" This returns a dictionary from an object (= ET.fromstring(response.read().decode())). \"\"\"\n",
    "    d = {t.tag: {} if t.attrib else None}\n",
    "    children = list(t)\n",
    "    if children:\n",
    "        dd = collections.defaultdict(list)\n",
    "        for dc in map(etree_to_dict, children):\n",
    "            for k, v in dc.items():\n",
    "                dd[k].append(v)\n",
    "        d = {t.tag: {k: v[0] if len(v) == 1 else v\n",
    "                     for k, v in dd.items()}}\n",
    "    if t.attrib:\n",
    "        d[t.tag].update(('@' + k, v)\n",
    "                        for k, v in t.attrib.items())\n",
    "    if t.text:\n",
    "        text = t.text.strip()\n",
    "        if children or t.attrib:\n",
    "            if text:\n",
    "              d[t.tag]['#text'] = text\n",
    "        else:\n",
    "            d[t.tag] = text\n",
    "    return d"
   ]
  },
  {
   "cell_type": "code",
   "execution_count": null,
   "metadata": {},
   "outputs": [],
   "source": [
    "# Establish connection with zillow\n",
    "connection = http.client.HTTPSConnection('www.zillow.com')\n",
    "\n",
    "# Headers & payload for the connection.request(s) that will be called below\n",
    "headers = {'Content-type': 'application/json'}\n",
    "payload = \"\"\n",
    "\n",
    "# API call to understand the neighborhoods in Chicago that Zillow has data on\n",
    "# Fingers crossed we get the neighborhoods I'm curious about: Wicker Park, Bucktown, Logan Square\n",
    "genre_request = '/webservice/GetRegionChildren.htm?zws-id={}&state=il&city=chicago&childtype=neighborhood'.format(zillow_api_key)\n",
    "\n",
    "try:\n",
    "    connection.request('GET', genre_request, payload, headers)\n",
    "except e:    # This is the correct syntax\n",
    "    print('There was an error making the request to Zillow\\'s API.')\n",
    "    print(e)\n",
    "\n",
    "response = connection.getresponse()\n",
    "\n",
    "# Load XML data into tree obj\n",
    "tree = ET.fromstring(response.read().decode())"
   ]
  },
  {
   "cell_type": "code",
   "execution_count": null,
   "metadata": {},
   "outputs": [],
   "source": [
    "# Let's find our neighborhoods\n",
    "initial_dict_obj = etree_to_dict(tree)\n",
    "chicago_neighborhoods = pd.DataFrame(initial_dict_obj[\"\".join([key for key in initial_dict_obj.keys()])]['response']['list']['region'])"
   ]
  },
  {
   "cell_type": "code",
   "execution_count": null,
   "metadata": {},
   "outputs": [],
   "source": [
    "chicago_neighborhoods['zindex'] = pd.Series([\n",
    "    int(str(val).split('{\\'@currency\\': \\'USD\\', \\'#text\\': \\'')[1][:-2]) if len(str(val)) > 3 \n",
    "    else None \n",
    "    for val in chicago_neighborhoods['zindex']\n",
    "])"
   ]
  },
  {
   "cell_type": "code",
   "execution_count": null,
   "metadata": {},
   "outputs": [],
   "source": [
    "# Let's look!\n",
    "chicago_neighborhoods[chicago_neighborhoods.name.isin(['Logan Square', 'Bucktown', 'Wicker Park'])]"
   ]
  },
  {
   "cell_type": "code",
   "execution_count": null,
   "metadata": {},
   "outputs": [],
   "source": [
    "connection.close()"
   ]
  },
  {
   "cell_type": "code",
   "execution_count": null,
   "metadata": {
    "collapsed": true
   },
   "outputs": [],
   "source": []
  }
 ],
 "metadata": {
  "kernelspec": {
   "display_name": "Python 3",
   "language": "python",
   "name": "python3"
  },
  "language_info": {
   "codemirror_mode": {
    "name": "ipython",
    "version": 3
   },
   "file_extension": ".py",
   "mimetype": "text/x-python",
   "name": "python",
   "nbconvert_exporter": "python",
   "pygments_lexer": "ipython3",
   "version": "3.6.2"
  }
 },
 "nbformat": 4,
 "nbformat_minor": 2
}
